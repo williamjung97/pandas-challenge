{
 "cells": [
  {
   "cell_type": "markdown",
   "metadata": {},
   "source": [
    "### Note\n",
    "* Instructions have been included for each segment. You do not have to follow them exactly, but they are included to help you think through the steps."
   ]
  },
  {
   "cell_type": "code",
   "execution_count": 3,
   "metadata": {},
   "outputs": [],
   "source": [
    "#Dependencies and Setup\n",
    "import pandas as pd\n",
    "\n",
    "# File to Load (Remember to Change These)\n",
    "csv_path = \"Resources/purchase_data.csv\"\n",
    "\n",
    "#Read Purchasing File and store into Pandas data frame\n",
    "purchase_data = pd.read_csv(csv_path)"
   ]
  },
  {
   "cell_type": "markdown",
   "metadata": {},
   "source": [
    "## Player Count"
   ]
  },
  {
   "cell_type": "markdown",
   "metadata": {},
   "source": [
    "* Display the total number of players\n"
   ]
  },
  {
   "cell_type": "code",
   "execution_count": 4,
   "metadata": {},
   "outputs": [
    {
     "data": {
      "text/html": [
       "<div>\n",
       "<style scoped>\n",
       "    .dataframe tbody tr th:only-of-type {\n",
       "        vertical-align: middle;\n",
       "    }\n",
       "\n",
       "    .dataframe tbody tr th {\n",
       "        vertical-align: top;\n",
       "    }\n",
       "\n",
       "    .dataframe thead th {\n",
       "        text-align: right;\n",
       "    }\n",
       "</style>\n",
       "<table border=\"1\" class=\"dataframe\">\n",
       "  <thead>\n",
       "    <tr style=\"text-align: right;\">\n",
       "      <th></th>\n",
       "      <th>Total Players</th>\n",
       "    </tr>\n",
       "  </thead>\n",
       "  <tbody>\n",
       "    <tr>\n",
       "      <th>0</th>\n",
       "      <td>576</td>\n",
       "    </tr>\n",
       "  </tbody>\n",
       "</table>\n",
       "</div>"
      ],
      "text/plain": [
       "   Total Players\n",
       "0            576"
      ]
     },
     "execution_count": 4,
     "metadata": {},
     "output_type": "execute_result"
    }
   ],
   "source": [
    "#Finding Player Count and setting up loc for future use\n",
    "player_info = purchase_data.loc[:,[\"Gender\", \"SN\", \"Age\"]]\n",
    "#Remember we dont want duplicate SN\n",
    "player_info = player_info.drop_duplicates()\n",
    "player_count = player_info.count()[0]\n",
    "\n",
    "\n",
    "#Create the data frame to show total players\n",
    "pd.DataFrame({\"Total Players\":[player_count]})"
   ]
  },
  {
   "cell_type": "markdown",
   "metadata": {},
   "source": [
    "## Purchasing Analysis (Total)"
   ]
  },
  {
   "cell_type": "markdown",
   "metadata": {},
   "source": [
    "* Run basic calculations to obtain number of unique items, average price, etc.\n",
    "\n",
    "\n",
    "* Create a summary data frame to hold the results\n",
    "\n",
    "\n",
    "* Optional: give the displayed data cleaner formatting\n",
    "\n",
    "\n",
    "* Display the summary data frame\n"
   ]
  },
  {
   "cell_type": "code",
   "execution_count": 5,
   "metadata": {
    "scrolled": true
   },
   "outputs": [
    {
     "data": {
      "text/html": [
       "<style  type=\"text/css\" >\n",
       "</style><table id=\"T_9c2bbddb_9cd5_11eb_b392_001583fc5fc3\" ><thead>    <tr>        <th class=\"blank level0\" ></th>        <th class=\"col_heading level0 col0\" >Number of Unique Items</th>        <th class=\"col_heading level0 col1\" >Average Purchase Price</th>        <th class=\"col_heading level0 col2\" >Number of Purchases</th>        <th class=\"col_heading level0 col3\" >Total Revenue</th>    </tr></thead><tbody>\n",
       "                <tr>\n",
       "                        <th id=\"T_9c2bbddb_9cd5_11eb_b392_001583fc5fc3level0_row0\" class=\"row_heading level0 row0\" >0</th>\n",
       "                        <td id=\"T_9c2bbddb_9cd5_11eb_b392_001583fc5fc3row0_col0\" class=\"data row0 col0\" >179</td>\n",
       "                        <td id=\"T_9c2bbddb_9cd5_11eb_b392_001583fc5fc3row0_col1\" class=\"data row0 col1\" >$3.05</td>\n",
       "                        <td id=\"T_9c2bbddb_9cd5_11eb_b392_001583fc5fc3row0_col2\" class=\"data row0 col2\" >780</td>\n",
       "                        <td id=\"T_9c2bbddb_9cd5_11eb_b392_001583fc5fc3row0_col3\" class=\"data row0 col3\" >$2,379.77</td>\n",
       "            </tr>\n",
       "    </tbody></table>"
      ],
      "text/plain": [
       "<pandas.io.formats.style.Styler at 0x2579b8c2790>"
      ]
     },
     "execution_count": 5,
     "metadata": {},
     "output_type": "execute_result"
    }
   ],
   "source": [
    "# Finding calculations for number of unique items, average purchase price, total number of purchases, and total revenue.\n",
    "number_of_unique_items = len((purchase_data[\"Item ID\"]).unique())\n",
    "average_purchase_price = (purchase_data[\"Price\"]).mean()\n",
    "number_of_purchases = (purchase_data[\"Purchase ID\"]).count()\n",
    "total_revenue = (purchase_data[\"Price\"]).sum()\n",
    "\n",
    "#Creating the data frame\n",
    "purchasing_analysis_df = pd.DataFrame ({\"Number of Unique Items\":[number_of_unique_items],\n",
    "                                        \"Average Purchase Price\":[average_purchase_price],\n",
    "                                        \"Number of Purchases\":[number_of_purchases],\n",
    "                                        \"Total Revenue\":[total_revenue]})\n",
    "\n",
    "#Formatting\n",
    "purchasing_analysis_df.style.format({'Average Purchase Price':\"${:,.2f}\",\n",
    "                                     'Total Revenue':\"${:,.2f}\"})"
   ]
  },
  {
   "cell_type": "markdown",
   "metadata": {},
   "source": [
    "## Gender Demographics"
   ]
  },
  {
   "cell_type": "markdown",
   "metadata": {},
   "source": [
    "* Percentage and Count of Male Players\n",
    "\n",
    "\n",
    "* Percentage and Count of Female Players\n",
    "\n",
    "\n",
    "* Percentage and Count of Other / Non-Disclosed\n",
    "\n",
    "\n"
   ]
  },
  {
   "cell_type": "code",
   "execution_count": 6,
   "metadata": {},
   "outputs": [
    {
     "data": {
      "text/html": [
       "<style  type=\"text/css\" >\n",
       "</style><table id=\"T_9c469a59_9cd5_11eb_b2f4_001583fc5fc3\" ><thead>    <tr>        <th class=\"blank level0\" ></th>        <th class=\"col_heading level0 col0\" >Total Count</th>        <th class=\"col_heading level0 col1\" >Percentage of Players</th>    </tr></thead><tbody>\n",
       "                <tr>\n",
       "                        <th id=\"T_9c469a59_9cd5_11eb_b2f4_001583fc5fc3level0_row0\" class=\"row_heading level0 row0\" >Male</th>\n",
       "                        <td id=\"T_9c469a59_9cd5_11eb_b2f4_001583fc5fc3row0_col0\" class=\"data row0 col0\" >484</td>\n",
       "                        <td id=\"T_9c469a59_9cd5_11eb_b2f4_001583fc5fc3row0_col1\" class=\"data row0 col1\" >84.03</td>\n",
       "            </tr>\n",
       "            <tr>\n",
       "                        <th id=\"T_9c469a59_9cd5_11eb_b2f4_001583fc5fc3level0_row1\" class=\"row_heading level0 row1\" >Female</th>\n",
       "                        <td id=\"T_9c469a59_9cd5_11eb_b2f4_001583fc5fc3row1_col0\" class=\"data row1 col0\" >81</td>\n",
       "                        <td id=\"T_9c469a59_9cd5_11eb_b2f4_001583fc5fc3row1_col1\" class=\"data row1 col1\" >14.06</td>\n",
       "            </tr>\n",
       "            <tr>\n",
       "                        <th id=\"T_9c469a59_9cd5_11eb_b2f4_001583fc5fc3level0_row2\" class=\"row_heading level0 row2\" >Other / Non-Disclosed</th>\n",
       "                        <td id=\"T_9c469a59_9cd5_11eb_b2f4_001583fc5fc3row2_col0\" class=\"data row2 col0\" >11</td>\n",
       "                        <td id=\"T_9c469a59_9cd5_11eb_b2f4_001583fc5fc3row2_col1\" class=\"data row2 col1\" >1.91</td>\n",
       "            </tr>\n",
       "    </tbody></table>"
      ],
      "text/plain": [
       "<pandas.io.formats.style.Styler at 0x2579d9efb20>"
      ]
     },
     "execution_count": 6,
     "metadata": {},
     "output_type": "execute_result"
    }
   ],
   "source": [
    "#Finding gender count and percentage\n",
    "gender_count = player_info[\"Gender\"].value_counts()\n",
    "gender_percent = gender_count/player_count*100\n",
    "\n",
    "#Create Data Frame\n",
    "gender_demo_df = pd.DataFrame({\"Total Count\": gender_count,\n",
    "                               \"Percentage of Players\": gender_percent})\n",
    "\n",
    "#Formatting\n",
    "gender_demo_df.style.format({\"Percentage of Players\":\"{:.2f}\"})"
   ]
  },
  {
   "cell_type": "markdown",
   "metadata": {},
   "source": [
    "\n",
    "## Purchasing Analysis (Gender)"
   ]
  },
  {
   "cell_type": "markdown",
   "metadata": {},
   "source": [
    "* Run basic calculations to obtain purchase count, avg. purchase price, avg. purchase total per person etc. by gender\n",
    "\n",
    "\n",
    "\n",
    "\n",
    "* Create a summary data frame to hold the results\n",
    "\n",
    "\n",
    "* Optional: give the displayed data cleaner formatting\n",
    "\n",
    "\n",
    "* Display the summary data frame"
   ]
  },
  {
   "cell_type": "code",
   "execution_count": 7,
   "metadata": {},
   "outputs": [
    {
     "data": {
      "text/html": [
       "<style  type=\"text/css\" >\n",
       "</style><table id=\"T_9c84a148_9cd5_11eb_a1a9_001583fc5fc3\" ><thead>    <tr>        <th class=\"blank level0\" ></th>        <th class=\"col_heading level0 col0\" >Purchase Count</th>        <th class=\"col_heading level0 col1\" >Average Purchase Price</th>        <th class=\"col_heading level0 col2\" >Total Purchase Value</th>        <th class=\"col_heading level0 col3\" >Avg Total Purchase per Person</th>    </tr>    <tr>        <th class=\"index_name level0\" >Gender</th>        <th class=\"blank\" ></th>        <th class=\"blank\" ></th>        <th class=\"blank\" ></th>        <th class=\"blank\" ></th>    </tr></thead><tbody>\n",
       "                <tr>\n",
       "                        <th id=\"T_9c84a148_9cd5_11eb_a1a9_001583fc5fc3level0_row0\" class=\"row_heading level0 row0\" >Female</th>\n",
       "                        <td id=\"T_9c84a148_9cd5_11eb_a1a9_001583fc5fc3row0_col0\" class=\"data row0 col0\" >113</td>\n",
       "                        <td id=\"T_9c84a148_9cd5_11eb_a1a9_001583fc5fc3row0_col1\" class=\"data row0 col1\" >$3.20</td>\n",
       "                        <td id=\"T_9c84a148_9cd5_11eb_a1a9_001583fc5fc3row0_col2\" class=\"data row0 col2\" >$361.94</td>\n",
       "                        <td id=\"T_9c84a148_9cd5_11eb_a1a9_001583fc5fc3row0_col3\" class=\"data row0 col3\" >$4.47</td>\n",
       "            </tr>\n",
       "            <tr>\n",
       "                        <th id=\"T_9c84a148_9cd5_11eb_a1a9_001583fc5fc3level0_row1\" class=\"row_heading level0 row1\" >Male</th>\n",
       "                        <td id=\"T_9c84a148_9cd5_11eb_a1a9_001583fc5fc3row1_col0\" class=\"data row1 col0\" >652</td>\n",
       "                        <td id=\"T_9c84a148_9cd5_11eb_a1a9_001583fc5fc3row1_col1\" class=\"data row1 col1\" >$3.02</td>\n",
       "                        <td id=\"T_9c84a148_9cd5_11eb_a1a9_001583fc5fc3row1_col2\" class=\"data row1 col2\" >$1,967.64</td>\n",
       "                        <td id=\"T_9c84a148_9cd5_11eb_a1a9_001583fc5fc3row1_col3\" class=\"data row1 col3\" >$4.07</td>\n",
       "            </tr>\n",
       "            <tr>\n",
       "                        <th id=\"T_9c84a148_9cd5_11eb_a1a9_001583fc5fc3level0_row2\" class=\"row_heading level0 row2\" >Other / Non-Disclosed</th>\n",
       "                        <td id=\"T_9c84a148_9cd5_11eb_a1a9_001583fc5fc3row2_col0\" class=\"data row2 col0\" >15</td>\n",
       "                        <td id=\"T_9c84a148_9cd5_11eb_a1a9_001583fc5fc3row2_col1\" class=\"data row2 col1\" >$3.35</td>\n",
       "                        <td id=\"T_9c84a148_9cd5_11eb_a1a9_001583fc5fc3row2_col2\" class=\"data row2 col2\" >$50.19</td>\n",
       "                        <td id=\"T_9c84a148_9cd5_11eb_a1a9_001583fc5fc3row2_col3\" class=\"data row2 col3\" >$4.56</td>\n",
       "            </tr>\n",
       "    </tbody></table>"
      ],
      "text/plain": [
       "<pandas.io.formats.style.Styler at 0x2579ded08e0>"
      ]
     },
     "execution_count": 7,
     "metadata": {},
     "output_type": "execute_result"
    }
   ],
   "source": [
    "#Finding Purchase Count, Average Purchase Price, Total Purchase Value, Average Purchase Total per Person by Gender\n",
    "#Sort Data by Gender\n",
    "gender_analysis = purchase_data.groupby(\"Gender\")\n",
    "\n",
    "purchase_count_gender = gender_analysis[\"Purchase ID\"].count()\n",
    "average_purchase_price_gender = gender_analysis[\"Price\"].mean()\n",
    "total_purchase_value_gender = gender_analysis[\"Price\"].sum()\n",
    "average_purchase_total_gender = total_purchase_value_gender / gender_count\n",
    "\n",
    "#Create Data Frame\n",
    "gender_purchase_analysis_df = pd.DataFrame({\"Purchase Count\": purchase_count_gender,\n",
    "                                            \"Average Purchase Price\":average_purchase_price_gender,\n",
    "                                            \"Total Purchase Value\":total_purchase_value_gender,\n",
    "                                            \"Avg Total Purchase per Person\":average_purchase_total_gender})\n",
    "#Formatting\n",
    "gender_purchase_analysis_df.style.format({\"Average Purchase Price\":\"${:,.2f}\",\n",
    "                                          \"Total Purchase Value\":\"${:,.2f}\",\n",
    "                                          \"Avg Total Purchase per Person\":\"${:,.2f}\"})"
   ]
  },
  {
   "cell_type": "markdown",
   "metadata": {},
   "source": [
    "## Age Demographics"
   ]
  },
  {
   "cell_type": "markdown",
   "metadata": {},
   "source": [
    "* Establish bins for ages\n",
    "\n",
    "\n",
    "* Categorize the existing players using the age bins. Hint: use pd.cut()\n",
    "\n",
    "\n",
    "* Calculate the numbers and percentages by age group\n",
    "\n",
    "\n",
    "* Create a summary data frame to hold the results\n",
    "\n",
    "\n",
    "* Optional: round the percentage column to two decimal points\n",
    "\n",
    "\n",
    "* Display Age Demographics Table\n"
   ]
  },
  {
   "cell_type": "code",
   "execution_count": 8,
   "metadata": {},
   "outputs": [
    {
     "data": {
      "text/html": [
       "<div>\n",
       "<style scoped>\n",
       "    .dataframe tbody tr th:only-of-type {\n",
       "        vertical-align: middle;\n",
       "    }\n",
       "\n",
       "    .dataframe tbody tr th {\n",
       "        vertical-align: top;\n",
       "    }\n",
       "\n",
       "    .dataframe thead th {\n",
       "        text-align: right;\n",
       "    }\n",
       "</style>\n",
       "<table border=\"1\" class=\"dataframe\">\n",
       "  <thead>\n",
       "    <tr style=\"text-align: right;\">\n",
       "      <th></th>\n",
       "      <th>Total Count</th>\n",
       "      <th>Percentage of Players</th>\n",
       "    </tr>\n",
       "  </thead>\n",
       "  <tbody>\n",
       "    <tr>\n",
       "      <th>&lt;10</th>\n",
       "      <td>17</td>\n",
       "      <td>2.951389</td>\n",
       "    </tr>\n",
       "    <tr>\n",
       "      <th>10-14</th>\n",
       "      <td>22</td>\n",
       "      <td>3.819444</td>\n",
       "    </tr>\n",
       "    <tr>\n",
       "      <th>15-19</th>\n",
       "      <td>107</td>\n",
       "      <td>18.576389</td>\n",
       "    </tr>\n",
       "    <tr>\n",
       "      <th>20-24</th>\n",
       "      <td>258</td>\n",
       "      <td>44.791667</td>\n",
       "    </tr>\n",
       "    <tr>\n",
       "      <th>25-29</th>\n",
       "      <td>77</td>\n",
       "      <td>13.368056</td>\n",
       "    </tr>\n",
       "    <tr>\n",
       "      <th>30-34</th>\n",
       "      <td>52</td>\n",
       "      <td>9.027778</td>\n",
       "    </tr>\n",
       "    <tr>\n",
       "      <th>35-39</th>\n",
       "      <td>31</td>\n",
       "      <td>5.381944</td>\n",
       "    </tr>\n",
       "    <tr>\n",
       "      <th>40+</th>\n",
       "      <td>12</td>\n",
       "      <td>2.083333</td>\n",
       "    </tr>\n",
       "  </tbody>\n",
       "</table>\n",
       "</div>"
      ],
      "text/plain": [
       "       Total Count  Percentage of Players\n",
       "<10             17               2.951389\n",
       "10-14           22               3.819444\n",
       "15-19          107              18.576389\n",
       "20-24          258              44.791667\n",
       "25-29           77              13.368056\n",
       "30-34           52               9.027778\n",
       "35-39           31               5.381944\n",
       "40+             12               2.083333"
      ]
     },
     "execution_count": 8,
     "metadata": {},
     "output_type": "execute_result"
    }
   ],
   "source": [
    "#Create Bins and Change the Labels\n",
    "age_bins = [0, 9.90, 14.90, 19.90, 24.90, 29.90, 34.90, 39.90, 99999]\n",
    "bin_labels = [\"<10\", \"10-14\", \"15-19\", \"20-24\", \"25-29\", \"30-34\", \"35-39\", \"40+\"]\n",
    "\n",
    "player_info[\"Age Groups\"] = pd.cut(player_info[\"Age\"], age_bins, labels = bin_labels)\n",
    "age_demo = player_info[\"Age Groups\"].value_counts()\n",
    "age_demo_percent = age_demo/player_count*100\n",
    "\n",
    "#Create Data Frame\n",
    "age_demo_df = pd.DataFrame({\"Total Count\": age_demo,\n",
    "                            \"Percentage of Players\": age_demo_percent})\n",
    "\n",
    "#Formatting\n",
    "age_demo_df.style.format({\"Percentage of Players\":\"{:,.2f}\"})\n",
    "age_demo_df.sort_index()"
   ]
  },
  {
   "cell_type": "markdown",
   "metadata": {},
   "source": [
    "## Purchasing Analysis (Age)"
   ]
  },
  {
   "cell_type": "markdown",
   "metadata": {},
   "source": [
    "* Bin the purchase_data data frame by age\n",
    "\n",
    "\n",
    "* Run basic calculations to obtain purchase count, avg. purchase price, avg. purchase total per person etc. in the table below\n",
    "\n",
    "\n",
    "* Create a summary data frame to hold the results\n",
    "\n",
    "\n",
    "* Optional: give the displayed data cleaner formatting\n",
    "\n",
    "\n",
    "* Display the summary data frame"
   ]
  },
  {
   "cell_type": "code",
   "execution_count": 9,
   "metadata": {},
   "outputs": [
    {
     "ename": "KeyError",
     "evalue": "'Age Groups'",
     "output_type": "error",
     "traceback": [
      "\u001b[1;31m---------------------------------------------------------------------------\u001b[0m",
      "\u001b[1;31mKeyError\u001b[0m                                  Traceback (most recent call last)",
      "\u001b[1;32m<ipython-input-9-261444345766>\u001b[0m in \u001b[0;36m<module>\u001b[1;34m\u001b[0m\n\u001b[0;32m      1\u001b[0m \u001b[1;31m#Finding Purchase Count, Average Purchase Price, Total Purchase Value, Average Purchase Total per person\u001b[0m\u001b[1;33m\u001b[0m\u001b[1;33m\u001b[0m\u001b[1;33m\u001b[0m\u001b[0m\n\u001b[0;32m      2\u001b[0m \u001b[1;31m#Sort Data by Age Groups (bins)\u001b[0m\u001b[1;33m\u001b[0m\u001b[1;33m\u001b[0m\u001b[1;33m\u001b[0m\u001b[0m\n\u001b[1;32m----> 3\u001b[1;33m \u001b[0mage_groups\u001b[0m \u001b[1;33m=\u001b[0m \u001b[0mpurchase_data\u001b[0m\u001b[1;33m.\u001b[0m\u001b[0mgroupby\u001b[0m\u001b[1;33m(\u001b[0m\u001b[1;34m\"Age Groups\"\u001b[0m\u001b[1;33m)\u001b[0m\u001b[1;33m\u001b[0m\u001b[1;33m\u001b[0m\u001b[0m\n\u001b[0m\u001b[0;32m      4\u001b[0m \u001b[1;33m\u001b[0m\u001b[0m\n\u001b[0;32m      5\u001b[0m \u001b[0mpurchase_count_age\u001b[0m \u001b[1;33m=\u001b[0m \u001b[0mage_groups\u001b[0m\u001b[1;33m[\u001b[0m\u001b[1;34m\"Purchase ID\"\u001b[0m\u001b[1;33m]\u001b[0m\u001b[1;33m.\u001b[0m\u001b[0mcount\u001b[0m\u001b[1;33m(\u001b[0m\u001b[1;33m)\u001b[0m\u001b[1;33m\u001b[0m\u001b[1;33m\u001b[0m\u001b[0m\n",
      "\u001b[1;32m~\\anaconda3\\envs\\PythonData\\lib\\site-packages\\pandas\\core\\frame.py\u001b[0m in \u001b[0;36mgroupby\u001b[1;34m(self, by, axis, level, as_index, sort, group_keys, squeeze, observed, dropna)\u001b[0m\n\u001b[0;32m   6509\u001b[0m         \u001b[0maxis\u001b[0m \u001b[1;33m=\u001b[0m \u001b[0mself\u001b[0m\u001b[1;33m.\u001b[0m\u001b[0m_get_axis_number\u001b[0m\u001b[1;33m(\u001b[0m\u001b[0maxis\u001b[0m\u001b[1;33m)\u001b[0m\u001b[1;33m\u001b[0m\u001b[1;33m\u001b[0m\u001b[0m\n\u001b[0;32m   6510\u001b[0m \u001b[1;33m\u001b[0m\u001b[0m\n\u001b[1;32m-> 6511\u001b[1;33m         return DataFrameGroupBy(\n\u001b[0m\u001b[0;32m   6512\u001b[0m             \u001b[0mobj\u001b[0m\u001b[1;33m=\u001b[0m\u001b[0mself\u001b[0m\u001b[1;33m,\u001b[0m\u001b[1;33m\u001b[0m\u001b[1;33m\u001b[0m\u001b[0m\n\u001b[0;32m   6513\u001b[0m             \u001b[0mkeys\u001b[0m\u001b[1;33m=\u001b[0m\u001b[0mby\u001b[0m\u001b[1;33m,\u001b[0m\u001b[1;33m\u001b[0m\u001b[1;33m\u001b[0m\u001b[0m\n",
      "\u001b[1;32m~\\anaconda3\\envs\\PythonData\\lib\\site-packages\\pandas\\core\\groupby\\groupby.py\u001b[0m in \u001b[0;36m__init__\u001b[1;34m(self, obj, keys, axis, level, grouper, exclusions, selection, as_index, sort, group_keys, squeeze, observed, mutated, dropna)\u001b[0m\n\u001b[0;32m    523\u001b[0m             \u001b[1;32mfrom\u001b[0m \u001b[0mpandas\u001b[0m\u001b[1;33m.\u001b[0m\u001b[0mcore\u001b[0m\u001b[1;33m.\u001b[0m\u001b[0mgroupby\u001b[0m\u001b[1;33m.\u001b[0m\u001b[0mgrouper\u001b[0m \u001b[1;32mimport\u001b[0m \u001b[0mget_grouper\u001b[0m\u001b[1;33m\u001b[0m\u001b[1;33m\u001b[0m\u001b[0m\n\u001b[0;32m    524\u001b[0m \u001b[1;33m\u001b[0m\u001b[0m\n\u001b[1;32m--> 525\u001b[1;33m             grouper, exclusions, obj = get_grouper(\n\u001b[0m\u001b[0;32m    526\u001b[0m                 \u001b[0mobj\u001b[0m\u001b[1;33m,\u001b[0m\u001b[1;33m\u001b[0m\u001b[1;33m\u001b[0m\u001b[0m\n\u001b[0;32m    527\u001b[0m                 \u001b[0mkeys\u001b[0m\u001b[1;33m,\u001b[0m\u001b[1;33m\u001b[0m\u001b[1;33m\u001b[0m\u001b[0m\n",
      "\u001b[1;32m~\\anaconda3\\envs\\PythonData\\lib\\site-packages\\pandas\\core\\groupby\\grouper.py\u001b[0m in \u001b[0;36mget_grouper\u001b[1;34m(obj, key, axis, level, sort, observed, mutated, validate, dropna)\u001b[0m\n\u001b[0;32m    779\u001b[0m                 \u001b[0min_axis\u001b[0m\u001b[1;33m,\u001b[0m \u001b[0mname\u001b[0m\u001b[1;33m,\u001b[0m \u001b[0mlevel\u001b[0m\u001b[1;33m,\u001b[0m \u001b[0mgpr\u001b[0m \u001b[1;33m=\u001b[0m \u001b[1;32mFalse\u001b[0m\u001b[1;33m,\u001b[0m \u001b[1;32mNone\u001b[0m\u001b[1;33m,\u001b[0m \u001b[0mgpr\u001b[0m\u001b[1;33m,\u001b[0m \u001b[1;32mNone\u001b[0m\u001b[1;33m\u001b[0m\u001b[1;33m\u001b[0m\u001b[0m\n\u001b[0;32m    780\u001b[0m             \u001b[1;32melse\u001b[0m\u001b[1;33m:\u001b[0m\u001b[1;33m\u001b[0m\u001b[1;33m\u001b[0m\u001b[0m\n\u001b[1;32m--> 781\u001b[1;33m                 \u001b[1;32mraise\u001b[0m \u001b[0mKeyError\u001b[0m\u001b[1;33m(\u001b[0m\u001b[0mgpr\u001b[0m\u001b[1;33m)\u001b[0m\u001b[1;33m\u001b[0m\u001b[1;33m\u001b[0m\u001b[0m\n\u001b[0m\u001b[0;32m    782\u001b[0m         \u001b[1;32melif\u001b[0m \u001b[0misinstance\u001b[0m\u001b[1;33m(\u001b[0m\u001b[0mgpr\u001b[0m\u001b[1;33m,\u001b[0m \u001b[0mGrouper\u001b[0m\u001b[1;33m)\u001b[0m \u001b[1;32mand\u001b[0m \u001b[0mgpr\u001b[0m\u001b[1;33m.\u001b[0m\u001b[0mkey\u001b[0m \u001b[1;32mis\u001b[0m \u001b[1;32mnot\u001b[0m \u001b[1;32mNone\u001b[0m\u001b[1;33m:\u001b[0m\u001b[1;33m\u001b[0m\u001b[1;33m\u001b[0m\u001b[0m\n\u001b[0;32m    783\u001b[0m             \u001b[1;31m# Add key to exclusions\u001b[0m\u001b[1;33m\u001b[0m\u001b[1;33m\u001b[0m\u001b[1;33m\u001b[0m\u001b[0m\n",
      "\u001b[1;31mKeyError\u001b[0m: 'Age Groups'"
     ]
    }
   ],
   "source": [
    "#Finding Purchase Count, Average Purchase Price, Total Purchase Value, Average Purchase Total per person\n",
    "#Sort Data by Age Groups (bins)\n",
    "age_groups = purchase_data.groupby(\"Age Groups\")\n",
    "\n",
    "purchase_count_age = age_groups[\"Purchase ID\"].count()\n",
    "average_purchase_price_age = age_groups[\"Price\"].mean()\n",
    "total_purchase_value_age = age_groups[\"Price\"].sum()\n",
    "average_purchase_total_age = total_purchase_value_age / age_demo\n",
    "\n",
    "#Create Data Frame\n",
    "age_purchase_analysis_df = pd.DataFrame({\"Purchase Count\": purchase_count_age,\n",
    "                                         \"Average Purchase Price\": average_purchase_price_age,\n",
    "                                         \"Total Purchase Value\": total_purchase_value_age,\n",
    "                                         \"Avg Total Purchase per Person\": average_purchase_total_age})\n",
    "\n",
    "#Formatting\n",
    "age_purchase_analysis_df.style.format({\"Average Purchase Price\":\"${:,.2f}\",\n",
    "                                      \"Total Purchase Value\":\"${:,.2f}\",\n",
    "                                      \"Avg Total Purchase per Person\":\"${:,.2f}\"})"
   ]
  },
  {
   "cell_type": "markdown",
   "metadata": {},
   "source": [
    "## Top Spenders"
   ]
  },
  {
   "cell_type": "markdown",
   "metadata": {},
   "source": [
    "* Run basic calculations to obtain the results in the table below\n",
    "\n",
    "\n",
    "* Create a summary data frame to hold the results\n",
    "\n",
    "\n",
    "* Sort the total purchase value column in descending order\n",
    "\n",
    "\n",
    "* Optional: give the displayed data cleaner formatting\n",
    "\n",
    "\n",
    "* Display a preview of the summary data frame\n",
    "\n"
   ]
  },
  {
   "cell_type": "code",
   "execution_count": 10,
   "metadata": {},
   "outputs": [
    {
     "data": {
      "text/html": [
       "<style  type=\"text/css\" >\n",
       "</style><table id=\"T_9d6ba207_9cd5_11eb_af66_001583fc5fc3\" ><thead>    <tr>        <th class=\"blank level0\" ></th>        <th class=\"col_heading level0 col0\" >Purchase Count</th>        <th class=\"col_heading level0 col1\" >Average Purchase Price</th>        <th class=\"col_heading level0 col2\" >Total Purchase Value</th>    </tr>    <tr>        <th class=\"index_name level0\" >SN</th>        <th class=\"blank\" ></th>        <th class=\"blank\" ></th>        <th class=\"blank\" ></th>    </tr></thead><tbody>\n",
       "                <tr>\n",
       "                        <th id=\"T_9d6ba207_9cd5_11eb_af66_001583fc5fc3level0_row0\" class=\"row_heading level0 row0\" >Lisosia93</th>\n",
       "                        <td id=\"T_9d6ba207_9cd5_11eb_af66_001583fc5fc3row0_col0\" class=\"data row0 col0\" >5</td>\n",
       "                        <td id=\"T_9d6ba207_9cd5_11eb_af66_001583fc5fc3row0_col1\" class=\"data row0 col1\" >$3.79</td>\n",
       "                        <td id=\"T_9d6ba207_9cd5_11eb_af66_001583fc5fc3row0_col2\" class=\"data row0 col2\" >$18.96</td>\n",
       "            </tr>\n",
       "            <tr>\n",
       "                        <th id=\"T_9d6ba207_9cd5_11eb_af66_001583fc5fc3level0_row1\" class=\"row_heading level0 row1\" >Idastidru52</th>\n",
       "                        <td id=\"T_9d6ba207_9cd5_11eb_af66_001583fc5fc3row1_col0\" class=\"data row1 col0\" >4</td>\n",
       "                        <td id=\"T_9d6ba207_9cd5_11eb_af66_001583fc5fc3row1_col1\" class=\"data row1 col1\" >$3.86</td>\n",
       "                        <td id=\"T_9d6ba207_9cd5_11eb_af66_001583fc5fc3row1_col2\" class=\"data row1 col2\" >$15.45</td>\n",
       "            </tr>\n",
       "            <tr>\n",
       "                        <th id=\"T_9d6ba207_9cd5_11eb_af66_001583fc5fc3level0_row2\" class=\"row_heading level0 row2\" >Chamjask73</th>\n",
       "                        <td id=\"T_9d6ba207_9cd5_11eb_af66_001583fc5fc3row2_col0\" class=\"data row2 col0\" >3</td>\n",
       "                        <td id=\"T_9d6ba207_9cd5_11eb_af66_001583fc5fc3row2_col1\" class=\"data row2 col1\" >$4.61</td>\n",
       "                        <td id=\"T_9d6ba207_9cd5_11eb_af66_001583fc5fc3row2_col2\" class=\"data row2 col2\" >$13.83</td>\n",
       "            </tr>\n",
       "            <tr>\n",
       "                        <th id=\"T_9d6ba207_9cd5_11eb_af66_001583fc5fc3level0_row3\" class=\"row_heading level0 row3\" >Iral74</th>\n",
       "                        <td id=\"T_9d6ba207_9cd5_11eb_af66_001583fc5fc3row3_col0\" class=\"data row3 col0\" >4</td>\n",
       "                        <td id=\"T_9d6ba207_9cd5_11eb_af66_001583fc5fc3row3_col1\" class=\"data row3 col1\" >$3.40</td>\n",
       "                        <td id=\"T_9d6ba207_9cd5_11eb_af66_001583fc5fc3row3_col2\" class=\"data row3 col2\" >$13.62</td>\n",
       "            </tr>\n",
       "            <tr>\n",
       "                        <th id=\"T_9d6ba207_9cd5_11eb_af66_001583fc5fc3level0_row4\" class=\"row_heading level0 row4\" >Iskadarya95</th>\n",
       "                        <td id=\"T_9d6ba207_9cd5_11eb_af66_001583fc5fc3row4_col0\" class=\"data row4 col0\" >3</td>\n",
       "                        <td id=\"T_9d6ba207_9cd5_11eb_af66_001583fc5fc3row4_col1\" class=\"data row4 col1\" >$4.37</td>\n",
       "                        <td id=\"T_9d6ba207_9cd5_11eb_af66_001583fc5fc3row4_col2\" class=\"data row4 col2\" >$13.10</td>\n",
       "            </tr>\n",
       "    </tbody></table>"
      ],
      "text/plain": [
       "<pandas.io.formats.style.Styler at 0x2579b99c2e0>"
      ]
     },
     "execution_count": 10,
     "metadata": {},
     "output_type": "execute_result"
    }
   ],
   "source": [
    "#Finding the Top 5 Spenders and finding their Purchase Count, Average Purchase Price, Total Purchase Value\n",
    "#Sort Data by SN\n",
    "spender_info = purchase_data.groupby(\"SN\")\n",
    "\n",
    "purchase_count_spender = spender_info[\"Purchase ID\"].count()\n",
    "average_purchase_price_spender = spender_info[\"Price\"].mean()\n",
    "total_purchase_value_spender = spender_info[\"Price\"].sum()\n",
    "\n",
    "#Create Data Frame\n",
    "top_spenders_df = pd.DataFrame({\"Purchase Count\": purchase_count_spender,\n",
    "                               \"Average Purchase Price\": average_purchase_price_spender,\n",
    "                               \"Total Purchase Value\": total_purchase_value_spender})\n",
    "#Sort by Descending Order To Get Top 5 Spenders\n",
    "top_5_spenders_df = top_spenders_df.sort_values([\"Total Purchase Value\"], ascending=False).head(5)\n",
    "\n",
    "#Formatting\n",
    "top_5_spenders_df.style.format({\"Average Purchase Price\":\"${:,.2f}\",\n",
    "                               \"Total Purchase Value\":\"${:,.2f}\"})"
   ]
  },
  {
   "cell_type": "markdown",
   "metadata": {},
   "source": [
    "## Most Popular Items"
   ]
  },
  {
   "cell_type": "markdown",
   "metadata": {},
   "source": [
    "* Retrieve the Item ID, Item Name, and Item Price columns\n",
    "\n",
    "\n",
    "* Group by Item ID and Item Name. Perform calculations to obtain purchase count, average item price, and total purchase value\n",
    "\n",
    "\n",
    "* Create a summary data frame to hold the results\n",
    "\n",
    "\n",
    "* Sort the purchase count column in descending order\n",
    "\n",
    "\n",
    "* Optional: give the displayed data cleaner formatting\n",
    "\n",
    "\n",
    "* Display a preview of the summary data frame\n",
    "\n"
   ]
  },
  {
   "cell_type": "code",
   "execution_count": 42,
   "metadata": {
    "scrolled": true
   },
   "outputs": [
    {
     "data": {
      "text/html": [
       "<style  type=\"text/css\" >\n",
       "</style><table id=\"T_af07bf73_9cdb_11eb_8a77_001583fc5fc3\" ><thead>    <tr>        <th class=\"blank\" ></th>        <th class=\"blank level0\" ></th>        <th class=\"col_heading level0 col0\" >Purchase Count</th>        <th class=\"col_heading level0 col1\" >Item Price</th>        <th class=\"col_heading level0 col2\" >Total Purchase Value</th>    </tr>    <tr>        <th class=\"index_name level0\" >Item ID</th>        <th class=\"index_name level1\" >Item Name</th>        <th class=\"blank\" ></th>        <th class=\"blank\" ></th>        <th class=\"blank\" ></th>    </tr></thead><tbody>\n",
       "                <tr>\n",
       "                        <th id=\"T_af07bf73_9cdb_11eb_8a77_001583fc5fc3level0_row0\" class=\"row_heading level0 row0\" >92</th>\n",
       "                        <th id=\"T_af07bf73_9cdb_11eb_8a77_001583fc5fc3level1_row0\" class=\"row_heading level1 row0\" >Final Critic</th>\n",
       "                        <td id=\"T_af07bf73_9cdb_11eb_8a77_001583fc5fc3row0_col0\" class=\"data row0 col0\" >13</td>\n",
       "                        <td id=\"T_af07bf73_9cdb_11eb_8a77_001583fc5fc3row0_col1\" class=\"data row0 col1\" >$4.61</td>\n",
       "                        <td id=\"T_af07bf73_9cdb_11eb_8a77_001583fc5fc3row0_col2\" class=\"data row0 col2\" >$59.99</td>\n",
       "            </tr>\n",
       "            <tr>\n",
       "                        <th id=\"T_af07bf73_9cdb_11eb_8a77_001583fc5fc3level0_row1\" class=\"row_heading level0 row1\" >178</th>\n",
       "                        <th id=\"T_af07bf73_9cdb_11eb_8a77_001583fc5fc3level1_row1\" class=\"row_heading level1 row1\" >Oathbreaker, Last Hope of the Breaking Storm</th>\n",
       "                        <td id=\"T_af07bf73_9cdb_11eb_8a77_001583fc5fc3row1_col0\" class=\"data row1 col0\" >12</td>\n",
       "                        <td id=\"T_af07bf73_9cdb_11eb_8a77_001583fc5fc3row1_col1\" class=\"data row1 col1\" >$4.23</td>\n",
       "                        <td id=\"T_af07bf73_9cdb_11eb_8a77_001583fc5fc3row1_col2\" class=\"data row1 col2\" >$50.76</td>\n",
       "            </tr>\n",
       "            <tr>\n",
       "                        <th id=\"T_af07bf73_9cdb_11eb_8a77_001583fc5fc3level0_row2\" class=\"row_heading level0 row2\" >145</th>\n",
       "                        <th id=\"T_af07bf73_9cdb_11eb_8a77_001583fc5fc3level1_row2\" class=\"row_heading level1 row2\" >Fiery Glass Crusader</th>\n",
       "                        <td id=\"T_af07bf73_9cdb_11eb_8a77_001583fc5fc3row2_col0\" class=\"data row2 col0\" >9</td>\n",
       "                        <td id=\"T_af07bf73_9cdb_11eb_8a77_001583fc5fc3row2_col1\" class=\"data row2 col1\" >$4.58</td>\n",
       "                        <td id=\"T_af07bf73_9cdb_11eb_8a77_001583fc5fc3row2_col2\" class=\"data row2 col2\" >$41.22</td>\n",
       "            </tr>\n",
       "            <tr>\n",
       "                        <th id=\"T_af07bf73_9cdb_11eb_8a77_001583fc5fc3level0_row3\" class=\"row_heading level0 row3\" >132</th>\n",
       "                        <th id=\"T_af07bf73_9cdb_11eb_8a77_001583fc5fc3level1_row3\" class=\"row_heading level1 row3\" >Persuasion</th>\n",
       "                        <td id=\"T_af07bf73_9cdb_11eb_8a77_001583fc5fc3row3_col0\" class=\"data row3 col0\" >9</td>\n",
       "                        <td id=\"T_af07bf73_9cdb_11eb_8a77_001583fc5fc3row3_col1\" class=\"data row3 col1\" >$3.22</td>\n",
       "                        <td id=\"T_af07bf73_9cdb_11eb_8a77_001583fc5fc3row3_col2\" class=\"data row3 col2\" >$28.99</td>\n",
       "            </tr>\n",
       "            <tr>\n",
       "                        <th id=\"T_af07bf73_9cdb_11eb_8a77_001583fc5fc3level0_row4\" class=\"row_heading level0 row4\" >108</th>\n",
       "                        <th id=\"T_af07bf73_9cdb_11eb_8a77_001583fc5fc3level1_row4\" class=\"row_heading level1 row4\" >Extraction, Quickblade Of Trembling Hands</th>\n",
       "                        <td id=\"T_af07bf73_9cdb_11eb_8a77_001583fc5fc3row4_col0\" class=\"data row4 col0\" >9</td>\n",
       "                        <td id=\"T_af07bf73_9cdb_11eb_8a77_001583fc5fc3row4_col1\" class=\"data row4 col1\" >$3.53</td>\n",
       "                        <td id=\"T_af07bf73_9cdb_11eb_8a77_001583fc5fc3row4_col2\" class=\"data row4 col2\" >$31.77</td>\n",
       "            </tr>\n",
       "    </tbody></table>"
      ],
      "text/plain": [
       "<pandas.io.formats.style.Styler at 0x2579e0a8f10>"
      ]
     },
     "execution_count": 42,
     "metadata": {},
     "output_type": "execute_result"
    }
   ],
   "source": [
    "#Retrieve the Item ID, Item Name, and Price Columns \n",
    "items = purchase_data[[\"Item ID\", \"Item Name\", \"Price\"]]\n",
    "\n",
    "#Sort the items by Item ID and Item Name\n",
    "item_info = items.groupby([\"Item ID\", \"Item Name\"])\n",
    "\n",
    "#Finding Purchase Count, Average Item Price, and Total Purchase Value\n",
    "purchase_count_item = item_info[\"Price\"].count()\n",
    "total_purchase_value_item = item_info[\"Price\"].sum()\n",
    "average_price_item = total_purchase_value_item/purchase_count_item\n",
    "\n",
    "#Create Data Frame\n",
    "most_popular_items_df = pd.DataFrame({\"Purchase Count\":purchase_count_item,\n",
    "                                     \"Item Price\":average_price_item,\n",
    "                                     \"Total Purchase Value\":total_purchase_value_item})\n",
    "#Make it Descending to Give Top 5 Popular\n",
    "top_5_popular_items_df = most_popular_items_df.sort_values(\"Purchase Count\", ascending=False).head(5)\n",
    "\n",
    "#Formatting\n",
    "top_5_popular_items_df.style.format({\"Item Price\":\"${:,.2f}\",\n",
    "                                   \"Total Purchase Value\":\"${:,.2f}\"})"
   ]
  },
  {
   "cell_type": "markdown",
   "metadata": {},
   "source": [
    "## Most Profitable Items"
   ]
  },
  {
   "cell_type": "markdown",
   "metadata": {},
   "source": [
    "* Sort the above table by total purchase value in descending order\n",
    "\n",
    "\n",
    "* Optional: give the displayed data cleaner formatting\n",
    "\n",
    "\n",
    "* Display a preview of the data frame\n",
    "\n"
   ]
  },
  {
   "cell_type": "code",
   "execution_count": 47,
   "metadata": {
    "scrolled": true
   },
   "outputs": [
    {
     "data": {
      "text/html": [
       "<style  type=\"text/css\" >\n",
       "</style><table id=\"T_e4fecd7b_9cdb_11eb_b700_001583fc5fc3\" ><thead>    <tr>        <th class=\"blank\" ></th>        <th class=\"blank level0\" ></th>        <th class=\"col_heading level0 col0\" >Purchase Count</th>        <th class=\"col_heading level0 col1\" >Item Price</th>        <th class=\"col_heading level0 col2\" >Total Purchase Value</th>    </tr>    <tr>        <th class=\"index_name level0\" >Item ID</th>        <th class=\"index_name level1\" >Item Name</th>        <th class=\"blank\" ></th>        <th class=\"blank\" ></th>        <th class=\"blank\" ></th>    </tr></thead><tbody>\n",
       "                <tr>\n",
       "                        <th id=\"T_e4fecd7b_9cdb_11eb_b700_001583fc5fc3level0_row0\" class=\"row_heading level0 row0\" >92</th>\n",
       "                        <th id=\"T_e4fecd7b_9cdb_11eb_b700_001583fc5fc3level1_row0\" class=\"row_heading level1 row0\" >Final Critic</th>\n",
       "                        <td id=\"T_e4fecd7b_9cdb_11eb_b700_001583fc5fc3row0_col0\" class=\"data row0 col0\" >13</td>\n",
       "                        <td id=\"T_e4fecd7b_9cdb_11eb_b700_001583fc5fc3row0_col1\" class=\"data row0 col1\" >$4.61</td>\n",
       "                        <td id=\"T_e4fecd7b_9cdb_11eb_b700_001583fc5fc3row0_col2\" class=\"data row0 col2\" >$59.99</td>\n",
       "            </tr>\n",
       "            <tr>\n",
       "                        <th id=\"T_e4fecd7b_9cdb_11eb_b700_001583fc5fc3level0_row1\" class=\"row_heading level0 row1\" >178</th>\n",
       "                        <th id=\"T_e4fecd7b_9cdb_11eb_b700_001583fc5fc3level1_row1\" class=\"row_heading level1 row1\" >Oathbreaker, Last Hope of the Breaking Storm</th>\n",
       "                        <td id=\"T_e4fecd7b_9cdb_11eb_b700_001583fc5fc3row1_col0\" class=\"data row1 col0\" >12</td>\n",
       "                        <td id=\"T_e4fecd7b_9cdb_11eb_b700_001583fc5fc3row1_col1\" class=\"data row1 col1\" >$4.23</td>\n",
       "                        <td id=\"T_e4fecd7b_9cdb_11eb_b700_001583fc5fc3row1_col2\" class=\"data row1 col2\" >$50.76</td>\n",
       "            </tr>\n",
       "            <tr>\n",
       "                        <th id=\"T_e4fecd7b_9cdb_11eb_b700_001583fc5fc3level0_row2\" class=\"row_heading level0 row2\" >82</th>\n",
       "                        <th id=\"T_e4fecd7b_9cdb_11eb_b700_001583fc5fc3level1_row2\" class=\"row_heading level1 row2\" >Nirvana</th>\n",
       "                        <td id=\"T_e4fecd7b_9cdb_11eb_b700_001583fc5fc3row2_col0\" class=\"data row2 col0\" >9</td>\n",
       "                        <td id=\"T_e4fecd7b_9cdb_11eb_b700_001583fc5fc3row2_col1\" class=\"data row2 col1\" >$4.90</td>\n",
       "                        <td id=\"T_e4fecd7b_9cdb_11eb_b700_001583fc5fc3row2_col2\" class=\"data row2 col2\" >$44.10</td>\n",
       "            </tr>\n",
       "            <tr>\n",
       "                        <th id=\"T_e4fecd7b_9cdb_11eb_b700_001583fc5fc3level0_row3\" class=\"row_heading level0 row3\" >145</th>\n",
       "                        <th id=\"T_e4fecd7b_9cdb_11eb_b700_001583fc5fc3level1_row3\" class=\"row_heading level1 row3\" >Fiery Glass Crusader</th>\n",
       "                        <td id=\"T_e4fecd7b_9cdb_11eb_b700_001583fc5fc3row3_col0\" class=\"data row3 col0\" >9</td>\n",
       "                        <td id=\"T_e4fecd7b_9cdb_11eb_b700_001583fc5fc3row3_col1\" class=\"data row3 col1\" >$4.58</td>\n",
       "                        <td id=\"T_e4fecd7b_9cdb_11eb_b700_001583fc5fc3row3_col2\" class=\"data row3 col2\" >$41.22</td>\n",
       "            </tr>\n",
       "            <tr>\n",
       "                        <th id=\"T_e4fecd7b_9cdb_11eb_b700_001583fc5fc3level0_row4\" class=\"row_heading level0 row4\" >103</th>\n",
       "                        <th id=\"T_e4fecd7b_9cdb_11eb_b700_001583fc5fc3level1_row4\" class=\"row_heading level1 row4\" >Singed Scalpel</th>\n",
       "                        <td id=\"T_e4fecd7b_9cdb_11eb_b700_001583fc5fc3row4_col0\" class=\"data row4 col0\" >8</td>\n",
       "                        <td id=\"T_e4fecd7b_9cdb_11eb_b700_001583fc5fc3row4_col1\" class=\"data row4 col1\" >$4.35</td>\n",
       "                        <td id=\"T_e4fecd7b_9cdb_11eb_b700_001583fc5fc3row4_col2\" class=\"data row4 col2\" >$34.80</td>\n",
       "            </tr>\n",
       "    </tbody></table>"
      ],
      "text/plain": [
       "<pandas.io.formats.style.Styler at 0x2579ded00d0>"
      ]
     },
     "execution_count": 47,
     "metadata": {},
     "output_type": "execute_result"
    }
   ],
   "source": [
    "#You can use the data frame from previous cell and change the sorting to find Top 5 Profitable\n",
    "top_5_profitable_items_df = most_popular_items_df.sort_values([\"Total Purchase Value\"], ascending=False).head(5)\n",
    "\n",
    "#Formatting\n",
    "top_5_profitable_items_df.style.format({\"Item Price\":\"${:,.2f}\",\n",
    "                                   \"Total Purchase Value\":\"${:,.2f}\"})"
   ]
  },
  {
   "cell_type": "code",
   "execution_count": null,
   "metadata": {},
   "outputs": [],
   "source": []
  }
 ],
 "metadata": {
  "anaconda-cloud": {},
  "kernel_info": {
   "name": "python3"
  },
  "kernelspec": {
   "display_name": "Python [conda env:PythonData] *",
   "language": "python",
   "name": "conda-env-PythonData-py"
  },
  "language_info": {
   "codemirror_mode": {
    "name": "ipython",
    "version": 3
   },
   "file_extension": ".py",
   "mimetype": "text/x-python",
   "name": "python",
   "nbconvert_exporter": "python",
   "pygments_lexer": "ipython3",
   "version": "3.8.5"
  },
  "latex_envs": {
   "LaTeX_envs_menu_present": true,
   "autoclose": false,
   "autocomplete": true,
   "bibliofile": "biblio.bib",
   "cite_by": "apalike",
   "current_citInitial": 1,
   "eqLabelWithNumbers": true,
   "eqNumInitial": 1,
   "hotkeys": {
    "equation": "Ctrl-E",
    "itemize": "Ctrl-I"
   },
   "labels_anchors": false,
   "latex_user_defs": false,
   "report_style_numbering": false,
   "user_envs_cfg": false
  },
  "nteract": {
   "version": "0.2.0"
  }
 },
 "nbformat": 4,
 "nbformat_minor": 2
}
